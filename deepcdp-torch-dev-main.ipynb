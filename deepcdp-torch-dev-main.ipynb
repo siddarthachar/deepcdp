{
 "cells": [
  {
   "cell_type": "code",
   "execution_count": null,
   "id": "e5fe717d",
   "metadata": {},
   "outputs": [],
   "source": []
  },
  {
   "cell_type": "code",
   "execution_count": 9,
   "id": "45b366ff",
   "metadata": {},
   "outputs": [
    {
     "name": "stdout",
     "output_type": "stream",
     "text": [
      "Device:  mps\n",
      "True\n",
      "True\n"
     ]
    }
   ],
   "source": [
    "import torch\n",
    "import math\n",
    "import numpy as np\n",
    "import dscribe\n",
    "from ase.build import molecule\n",
    "from dscribe.descriptors import SOAP\n",
    "from ase.io import read, write\n",
    "from ase import Atom, Atoms\n",
    "import time\n",
    "import os\n",
    "import sys\n",
    "import pickle\n",
    "from ase.io.cube import read_cube, write_cube\n",
    "from sklearn.metrics import explained_variance_score, mean_squared_error\n",
    "import py3Dmol\n",
    "sys.path.append('deepcdp/')\n",
    "from deepcdp import deepcdp\n",
    "import torch.nn as nn\n",
    "import torch.nn.functional as F\n",
    "from torchsummaryX import summary\n",
    "from torch.utils.data import Dataset, DataLoader\n",
    "from torch.nn.utils.rnn import pad_sequence, pack_padded_sequence, pad_packed_sequence\n",
    "import pandas as pd\n",
    "from sklearn.metrics import accuracy_score\n",
    "import gc\n",
    "import zipfile\n",
    "import pandas as pd\n",
    "from tqdm import tqdm\n",
    "\n",
    "import datetime\n",
    "import matplotlib.pyplot as plt\n",
    "import random\n",
    "import torch.utils.data as utils_data\n",
    "from torch.autograd import Variable\n",
    "from torch.nn.modules.dropout import Dropout\n",
    "\n",
    "import warnings\n",
    "warnings.filterwarnings('ignore')\n",
    "\n",
    "device = 'mps' if torch.backends.mps.is_available() else 'cpu'\n",
    "print(\"Device: \", device)\n",
    "\n",
    "# This ensures that the current MacOS version is at least 12.3+\n",
    "print(torch.backends.mps.is_available())\n",
    "# This ensures that the current current PyTorch installation was built with MPS activated.\n",
    "print(torch.backends.mps.is_built())"
   ]
  },
  {
   "cell_type": "code",
   "execution_count": 10,
   "id": "1898c970",
   "metadata": {},
   "outputs": [],
   "source": [
    "species = [\"H\", \"O\"]   \n",
    "rcut = 2.0      # Cut off radius in Angs\n",
    "nmax = 4      # number of radial basis functions\n",
    "lmax = 4      # number of spherical harmonics\n",
    "\n",
    "# Setting up the SOAP descriptor\n",
    "soap_obj = SOAP(\n",
    "    species=species,\n",
    "    periodic=False,\n",
    "    rcut=rcut,\n",
    "    nmax=nmax,\n",
    "    lmax=lmax,\n",
    "    weighting={\"function\":\"poly\",\"r0\":1.5,\"c\":2,\"m\":2}\n",
    ")"
   ]
  },
  {
   "cell_type": "code",
   "execution_count": 11,
   "id": "a0863e14",
   "metadata": {},
   "outputs": [
    {
     "name": "stdout",
     "output_type": "stream",
     "text": [
      "Read file: ../../DeePCDP-dev/water-data/cube-h2o-2k/h2o-ELECTRON_DENSITY-1_1919.cube\n",
      "SOAP is of dimension: (68921, 180)\n",
      "Read file: ../../DeePCDP-dev/water-data/cube-h2o-2k/h2o-ELECTRON_DENSITY-1_1616.cube\n",
      "Read file: ../../DeePCDP-dev/water-data/cube-h2o-2k/h2o-ELECTRON_DENSITY-1_404.cube\n",
      "Read file: ../../DeePCDP-dev/water-data/cube-h2o-2k/h2o-ELECTRON_DENSITY-1_808.cube\n",
      "Read file: ../../DeePCDP-dev/water-data/cube-h2o-2k/h2o-ELECTRON_DENSITY-1_1717.cube\n"
     ]
    },
    {
     "data": {
      "text/plain": [
       "(array([[0., 0., 0., ..., 0., 0., 0.],\n",
       "        [0., 0., 0., ..., 0., 0., 0.],\n",
       "        [0., 0., 0., ..., 0., 0., 0.],\n",
       "        ...,\n",
       "        [0., 0., 0., ..., 0., 0., 0.],\n",
       "        [0., 0., 0., ..., 0., 0., 0.],\n",
       "        [0., 0., 0., ..., 0., 0., 0.]]),\n",
       " array([-1.6638e-18, -1.2124e-18, -8.5074e-19, ...,  4.4681e-16,\n",
       "        -1.7824e-16, -1.2891e-15]))"
      ]
     },
     "execution_count": 11,
     "metadata": {},
     "output_type": "execute_result"
    }
   ],
   "source": [
    "subsample=5\n",
    "datapath = '../../DeePCDP-dev/water-data/cube-h2o-2k/'\n",
    "datafilename = 'h2o-ELECTRON_DENSITY-1_'\n",
    "data_files = os.listdir(f'{datapath}')\n",
    "idxList=[int(x.split('.cube')[0].split('_')[-1]) for x in data_files]\n",
    "cubefile = lambda x:f'{datapath}{x}'\n",
    "CDP=deepcdp(soap_obj)\n",
    "CDP.create_box(sample_cubeFile=datapath+data_files[0], gamma=90)\n",
    "totalfiles=int(os.popen(f'ls {datapath} | wc -l').read().split('\\n')[0])\n",
    "data_files = os.listdir(datapath)\n",
    "dicttest=read_cube(open(datapath+data_files[0]))\n",
    "sampleSubs=dicttest['atoms']\n",
    "data_files_sub = random.choices(data_files, k=subsample)\n",
    "CDP.generate_cube_data(data_files_sub,cubefile,sampleSubs)"
   ]
  },
  {
   "cell_type": "code",
   "execution_count": 12,
   "id": "1daedea8",
   "metadata": {},
   "outputs": [],
   "source": [
    "# Define the model class\n",
    "class Network(torch.nn.Module):        \n",
    "    def __init__(self, input_size, hidden_sizes, output_size):\n",
    "        super(Network, self).__init__()\n",
    "        hidden_1, hidden_2, hidden_3 = hidden_sizes\n",
    "        layers = [\n",
    "            nn.Linear(input_size, hidden_1),\n",
    "#             nn.BatchNorm1d(hidden_1),\n",
    "            nn.ReLU(),\n",
    "            nn.Linear(hidden_1, hidden_2),\n",
    "#             nn.BatchNorm1d(hidden_2),\n",
    "            nn.ReLU(),\n",
    "            nn.Linear(hidden_2, hidden_3),\n",
    "#             nn.BatchNorm1d(hidden_3),\n",
    "            nn.ReLU(),\n",
    "            nn.Linear(hidden_3, output_size)\n",
    "        ]\n",
    "        \n",
    "        self.layers = nn.Sequential(*layers)\n",
    "\n",
    "    def forward(self, A0):\n",
    "        x = self.layers(A0)\n",
    "        return x"
   ]
  },
  {
   "cell_type": "code",
   "execution_count": 13,
   "id": "5a228530",
   "metadata": {},
   "outputs": [
    {
     "data": {
      "text/plain": [
       "344500"
      ]
     },
     "execution_count": 13,
     "metadata": {},
     "output_type": "execute_result"
    }
   ],
   "source": [
    "batch_size=500\n",
    "data_batch = int(CDP.trainX.shape[0]/batch_size)\n",
    "data_batch*batch_size"
   ]
  },
  {
   "cell_type": "code",
   "execution_count": 14,
   "id": "5ee8c06d",
   "metadata": {},
   "outputs": [],
   "source": [
    "soaps=Variable(torch.Tensor(CDP.trainX))\n",
    "rhos=Variable(torch.Tensor(CDP.trainY))"
   ]
  },
  {
   "cell_type": "code",
   "execution_count": 18,
   "id": "6bf95d63",
   "metadata": {},
   "outputs": [],
   "source": [
    "batch_size=500\n",
    "# Define the hyperparameters\n",
    "num_epochs = 5\n",
    "learning_rate = 0.0005\n",
    "\n",
    "# Define the model and loss function\n",
    "\n",
    "model = Network(soaps.shape[1], [150,150,150], 1).to(device)\n",
    "\n",
    "\n",
    "criterion = nn.MSELoss() # TODO: Change the loss function to include number of electronds constraint\n",
    "optimizer = torch.optim.Adam(model.parameters(), lr=learning_rate,weight_decay=1e-4)\n",
    "scheduler = torch.optim.lr_scheduler.ReduceLROnPlateau(optimizer, mode=\"min\", factor=0.5, patience=5, verbose=True, threshold=0.01)\n",
    "\n",
    "\n",
    "training_samples = utils_data.TensorDataset(soaps, rhos)\n",
    "data_loader_trn = utils_data.DataLoader(training_samples, batch_size=batch_size, drop_last=False, shuffle=True)"
   ]
  },
  {
   "cell_type": "code",
   "execution_count": 33,
   "id": "7fff9772",
   "metadata": {},
   "outputs": [],
   "source": [
    "# torch.save({\n",
    "#                 'model_state_dict': model.state_dict(),\n",
    "#                 'optimizer_state_dict': optimizer.state_dict(),\n",
    "#                 'scheduler_state_dict' : scheduler.state_dict(),\n",
    "#     }, f\"water_model_\"+str(epoch))"
   ]
  },
  {
   "cell_type": "code",
   "execution_count": 20,
   "id": "0ac2e6ee",
   "metadata": {},
   "outputs": [],
   "source": [
    "model_dict=torch.load('../../DeePCDP-dev/saved_models/water/water_model_44')\n",
    "model.load_state_dict(model_dict['model_state_dict'])\n",
    "optimizer.load_state_dict(model_dict['optimizer_state_dict'])\n",
    "scheduler.load_state_dict(model_dict['scheduler_state_dict'])"
   ]
  },
  {
   "cell_type": "code",
   "execution_count": 21,
   "id": "df131d26",
   "metadata": {
    "scrolled": false
   },
   "outputs": [
    {
     "name": "stderr",
     "output_type": "stream",
     "text": [
      "                                                                                             \r"
     ]
    },
    {
     "name": "stdout",
     "output_type": "stream",
     "text": [
      "Epoch 1/5: Train Loss 0.0209, Learning Rate 0.0000\n"
     ]
    },
    {
     "name": "stderr",
     "output_type": "stream",
     "text": [
      "                                                                                             \r"
     ]
    },
    {
     "name": "stdout",
     "output_type": "stream",
     "text": [
      "Epoch 2/5: Train Loss 0.0209, Learning Rate 0.0000\n"
     ]
    },
    {
     "name": "stderr",
     "output_type": "stream",
     "text": [
      "                                                                                             \r"
     ]
    },
    {
     "name": "stdout",
     "output_type": "stream",
     "text": [
      "Epoch 3/5: Train Loss 0.0209, Learning Rate 0.0000\n"
     ]
    },
    {
     "name": "stderr",
     "output_type": "stream",
     "text": [
      "                                                                                             \r"
     ]
    },
    {
     "name": "stdout",
     "output_type": "stream",
     "text": [
      "Epoch 4/5: Train Loss 0.0209, Learning Rate 0.0000\n"
     ]
    },
    {
     "name": "stderr",
     "output_type": "stream",
     "text": [
      "                                                                                             "
     ]
    },
    {
     "name": "stdout",
     "output_type": "stream",
     "text": [
      "Epoch 5/5: Train Loss 0.0209, Learning Rate 0.0000\n",
      "Saving model\n"
     ]
    },
    {
     "name": "stderr",
     "output_type": "stream",
     "text": [
      "\r"
     ]
    }
   ],
   "source": [
    "# Train the model\n",
    "cum_loss_epoch=[]\n",
    "for epoch in range(num_epochs):\n",
    "    batch_bar = tqdm(total=len(data_loader_trn), dynamic_ncols=True, leave=False, position=0, desc='Train') \n",
    "    model.train()\n",
    "    cum_loss = 0\n",
    "    # Convert inputs and labels to tensors\n",
    "    \n",
    "    for batch_idx, (data, target) in enumerate(data_loader_trn):\n",
    "        inputs = (data.float()).to(device)\n",
    "        labels = (target.float()).reshape(-1,1).to(device)\n",
    "        \n",
    "        # Forward pass\n",
    "        outputs = model(inputs)\n",
    "        loss = criterion(outputs, labels)\n",
    "        # Backward and optimize\n",
    "        optimizer.zero_grad()\n",
    "        loss.backward()\n",
    "        optimizer.step()\n",
    "        cum_loss+=loss.item()\n",
    "        batch_bar.set_postfix(\n",
    "            loss=\"{:.04f}\".format(cum_loss),\n",
    "            lr=\"{:.04f}\".format(float(optimizer.param_groups[0]['lr'])))\n",
    "        batch_bar.update()\n",
    "    batch_bar.close()\n",
    "    print(\"Epoch {}/{}: Train Loss {:.04f}, Learning Rate {:.04f}\".format(\n",
    "        epoch + 1,\n",
    "        num_epochs,\n",
    "        float(cum_loss), \n",
    "        float(float(optimizer.param_groups[0]['lr']))\n",
    "        ))\n",
    "\n",
    "    scheduler.step(cum_loss)\n",
    "    cum_loss_epoch +=[cum_loss]\n",
    "    np.savetxt('../../DeePCDP-dev/saved_models/water/cum_loss_water.dat',cum_loss_epoch)\n",
    "\n",
    "    if (epoch+1) % 10 == 0:\n",
    "        print(f'Epoch [{epoch+1}/{num_epochs}], Loss: {cum_loss:.4f}')\n",
    "        plt.plot(model(soaps.to(device)).cpu().detach().numpy())\n",
    "        plt.plot(rhos, alpha=0.5)\n",
    "        plt.show()\n",
    "#     print()\n",
    "        \n",
    "    if (epoch+1) % 5 == 0:\n",
    "        \n",
    "        print('Saving model')\n",
    "        torch.save({\n",
    "                'model_state_dict': model.state_dict(),\n",
    "                'optimizer_state_dict': optimizer.state_dict(),\n",
    "                'scheduler_state_dict' : scheduler.state_dict(),\n",
    "    }, f\"../../DeePCDP-dev/saved_models/water/water_model_44p\"+str(epoch))\n",
    "#     print()"
   ]
  },
  {
   "cell_type": "code",
   "execution_count": 22,
   "id": "1f859bea",
   "metadata": {},
   "outputs": [
    {
     "data": {
      "text/plain": [
       "[<matplotlib.lines.Line2D at 0x7ff08b18ed90>]"
      ]
     },
     "execution_count": 22,
     "metadata": {},
     "output_type": "execute_result"
    },
    {
     "data": {
      "image/png": "[encoded data removed]",
      "text/plain": [
       "<Figure size 640x480 with 1 Axes>"
      ]
     },
     "metadata": {},
     "output_type": "display_data"
    }
   ],
   "source": [
    "model.eval()\n",
    "plt.plot(model(soaps.to(device)).cpu().detach().numpy())\n",
    "plt.plot(rhos, alpha=0.5)"
   ]
  },
  {
   "cell_type": "code",
   "execution_count": 28,
   "id": "4ae0e6ba",
   "metadata": {},
   "outputs": [
    {
     "data": {
      "text/plain": [
       "Network(\n",
       "  (layers): Sequential(\n",
       "    (0): Linear(in_features=180, out_features=150, bias=True)\n",
       "    (1): ReLU()\n",
       "    (2): Linear(in_features=150, out_features=150, bias=True)\n",
       "    (3): ReLU()\n",
       "    (4): Linear(in_features=150, out_features=150, bias=True)\n",
       "    (5): ReLU()\n",
       "    (6): Linear(in_features=150, out_features=1, bias=True)\n",
       "  )\n",
       ")"
      ]
     },
     "execution_count": 28,
     "metadata": {},
     "output_type": "execute_result"
    }
   ],
   "source": [
    "\n",
    "soap_obj.create()"
   ]
  },
  {
   "cell_type": "code",
   "execution_count": 26,
   "id": "97035d69",
   "metadata": {},
   "outputs": [],
   "source": [
    "CDP.cube2xyz('../../DeePCDP-dev/water-data/cube-h2o-2k/h2o-ELECTRON_DENSITY-1_1616.cube','example/structures/water/water-1616.xyz')"
   ]
  },
  {
   "cell_type": "code",
   "execution_count": 29,
   "id": "7c85d34a",
   "metadata": {},
   "outputs": [],
   "source": [
    "water_ase = read('example/structures/water/water-1616.xyz')\n",
    "water_ase.set_cell([10,10,10])\n",
    "water"
   ]
  },
  {
   "cell_type": "code",
   "execution_count": 27,
   "id": "9c0cba06",
   "metadata": {},
   "outputs": [
    {
     "data": {
      "application/3dmoljs_load.v0": "<div id=\"3dmolviewer_1678908277886393\"  style=\"position: relative; width: 400px; height: 400px\">\n        <p id=\"3dmolwarning_1678908277886393\" style=\"background-color:#ffcccc;color:black\">You appear to be running in JupyterLab (or JavaScript failed to load for some other reason).  You need to install the 3dmol extension: <br>\n        <tt>jupyter labextension install jupyterlab_3dmol</tt></p>\n        </div>\n<script>\n\nvar loadScriptAsync = function(uri){\n  return new Promise((resolve, reject) => {\n    //this is to ignore the existence of requirejs amd\n    var savedexports, savedmodule;\n    if (typeof exports !== 'undefined') savedexports = exports;\n    else exports = {}\n    if (typeof module !== 'undefined') savedmodule = module;\n    else module = {}\n\n    var tag = document.createElement('script');\n    tag.src = uri;\n    tag.async = true;\n    tag.onload = () => {\n        exports = savedexports;\n        module = savedmodule;\n        resolve();\n    };\n  var firstScriptTag = document.getElementsByTagName('script')[0];\n  firstScriptTag.parentNode.insertBefore(tag, firstScriptTag);\n});\n};\n\nif(typeof $3Dmolpromise === 'undefined') {\n$3Dmolpromise = null;\n  $3Dmolpromise = loadScriptAsync('https://cdnjs.cloudflare.com/ajax/libs/3Dmol/2.0.1/3Dmol-min.js');\n}\n\nvar viewer_1678908277886393 = null;\nvar warn = document.getElementById(\"3dmolwarning_1678908277886393\");\nif(warn) {\n    warn.parentNode.removeChild(warn);\n}\n$3Dmolpromise.then(function() {\nviewer_1678908277886393 = $3Dmol.createViewer(document.getElementById(\"3dmolviewer_1678908277886393\"),{backgroundColor:\"white\"});\nviewer_1678908277886393.zoomTo();\n\tviewer_1678908277886393.addModel(\"3\\n\\nO       4.079599628007295      3.704335196667579      3.306368004640253\\nH       3.647637033618927      3.143067092523515      3.987026425145678\\nH       4.962334949910734      3.789611045795521      3.686248448787718\\n\",\"xyz\");\n\tviewer_1678908277886393.setStyle({\"stick\": {}});\n\tviewer_1678908277886393.zoomTo();\nviewer_1678908277886393.render();\n});\n</script>",
      "text/html": [
       "<div id=\"3dmolviewer_1678908277886393\"  style=\"position: relative; width: 400px; height: 400px\">\n",
       "        <p id=\"3dmolwarning_1678908277886393\" style=\"background-color:#ffcccc;color:black\">You appear to be running in JupyterLab (or JavaScript failed to load for some other reason).  You need to install the 3dmol extension: <br>\n",
       "        <tt>jupyter labextension install jupyterlab_3dmol</tt></p>\n",
       "        </div>\n",
       "<script>\n",
       "\n",
       "var loadScriptAsync = function(uri){\n",
       "  return new Promise((resolve, reject) => {\n",
       "    //this is to ignore the existence of requirejs amd\n",
       "    var savedexports, savedmodule;\n",
       "    if (typeof exports !== 'undefined') savedexports = exports;\n",
       "    else exports = {}\n",
       "    if (typeof module !== 'undefined') savedmodule = module;\n",
       "    else module = {}\n",
       "\n",
       "    var tag = document.createElement('script');\n",
       "    tag.src = uri;\n",
       "    tag.async = true;\n",
       "    tag.onload = () => {\n",
       "        exports = savedexports;\n",
       "        module = savedmodule;\n",
       "        resolve();\n",
       "    };\n",
       "  var firstScriptTag = document.getElementsByTagName('script')[0];\n",
       "  firstScriptTag.parentNode.insertBefore(tag, firstScriptTag);\n",
       "});\n",
       "};\n",
       "\n",
       "if(typeof $3Dmolpromise === 'undefined') {\n",
       "$3Dmolpromise = null;\n",
       "  $3Dmolpromise = loadScriptAsync('https://cdnjs.cloudflare.com/ajax/libs/3Dmol/2.0.1/3Dmol-min.js');\n",
       "}\n",
       "\n",
       "var viewer_1678908277886393 = null;\n",
       "var warn = document.getElementById(\"3dmolwarning_1678908277886393\");\n",
       "if(warn) {\n",
       "    warn.parentNode.removeChild(warn);\n",
       "}\n",
       "$3Dmolpromise.then(function() {\n",
       "viewer_1678908277886393 = $3Dmol.createViewer(document.getElementById(\"3dmolviewer_1678908277886393\"),{backgroundColor:\"white\"});\n",
       "viewer_1678908277886393.zoomTo();\n",
       "\tviewer_1678908277886393.addModel(\"3\\n\\nO       4.079599628007295      3.704335196667579      3.306368004640253\\nH       3.647637033618927      3.143067092523515      3.987026425145678\\nH       4.962334949910734      3.789611045795521      3.686248448787718\\n\",\"xyz\");\n",
       "\tviewer_1678908277886393.setStyle({\"stick\": {}});\n",
       "\tviewer_1678908277886393.zoomTo();\n",
       "viewer_1678908277886393.render();\n",
       "});\n",
       "</script>"
      ]
     },
     "metadata": {},
     "output_type": "display_data"
    }
   ],
   "source": [
    "water_xyz=open('example/structures/water/water-1616.xyz').read()\n",
    "# print(water_xyz)\n",
    "xyzview = py3Dmol.view(width=400,height=400)\n",
    "xyzview.addModel(water_xyz,'xyz')\n",
    "xyzview.setStyle({'stick':{}})\n",
    "xyzview.zoomTo()\n",
    "xyzview.show()"
   ]
  },
  {
   "cell_type": "code",
   "execution_count": null,
   "id": "31b3f8de",
   "metadata": {},
   "outputs": [],
   "source": []
  }
 ],
 "metadata": {
  "kernelspec": {
   "display_name": "Python 3 (ipykernel)",
   "language": "python",
   "name": "python3"
  },
  "language_info": {
   "codemirror_mode": {
    "name": "ipython",
    "version": 3
   },
   "file_extension": ".py",
   "mimetype": "text/x-python",
   "name": "python",
   "nbconvert_exporter": "python",
   "pygments_lexer": "ipython3",
   "version": "3.8.16"
  }
 },
 "nbformat": 4,
 "nbformat_minor": 5
}

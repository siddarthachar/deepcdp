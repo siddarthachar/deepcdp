{
 "cells": [
  {
   "cell_type": "markdown",
   "id": "3c60d6e0",
   "metadata": {},
   "source": [
    "# Transferability of models trained with weighted-SOAP to larger system sizes: Bulk-Cu\n",
    "\n",
    "This notebook will demonstrate the use of a NN model trained with weighted-SOAP descriptors can be used for larger periodic cells. \n",
    "\n",
    "Importing required packages. For this demonstration, let's build NNs with pyTorch and train them on GPU (M1 Mac)."
   ]
  },
  {
   "cell_type": "code",
   "execution_count": 5,
   "id": "02ef227c",
   "metadata": {},
   "outputs": [
    {
     "name": "stdout",
     "output_type": "stream",
     "text": [
      "Device:  mps\n",
      "True\n",
      "True\n"
     ]
    }
   ],
   "source": [
    "import torch\n",
    "import math\n",
    "import numpy as np\n",
    "import dscribe\n",
    "from ase.build import molecule\n",
    "from dscribe.descriptors import SOAP\n",
    "from ase.io import read, write\n",
    "from ase import Atom, Atoms\n",
    "import time\n",
    "import os\n",
    "import sys\n",
    "import pickle\n",
    "from ase.io.cube import read_cube, write_cube\n",
    "from sklearn.metrics import explained_variance_score, mean_squared_error\n",
    "import py3Dmol\n",
    "sys.path.append('deepcdp/')\n",
    "from deepcdp import deepcdp\n",
    "import torch.nn as nn\n",
    "import torch.nn.functional as F\n",
    "from torchsummaryX import summary\n",
    "from torch.utils.data import Dataset, DataLoader\n",
    "from torch.nn.utils.rnn import pad_sequence, pack_padded_sequence, pad_packed_sequence\n",
    "import pandas as pd\n",
    "import sklearn.metrics as skmetrics\n",
    "from sklearn.neural_network import MLPRegressor\n",
    "import gc\n",
    "import zipfile\n",
    "import pandas as pd\n",
    "from tqdm import tqdm\n",
    "from ase.build import bulk\n",
    "from ase.visualize.plot import plot_atoms\n",
    "\n",
    "import datetime\n",
    "import matplotlib.pyplot as plt\n",
    "import random\n",
    "import torch.utils.data as utils_data\n",
    "from torch.autograd import Variable\n",
    "from torch.nn.modules.dropout import Dropout\n",
    "\n",
    "import warnings\n",
    "warnings.filterwarnings('ignore')\n",
    "\n",
    "device = 'mps' if torch.backends.mps.is_available() else 'cpu'\n",
    "print(\"Device: \", device)\n",
    "\n",
    "# This ensures that the current MacOS version is at least 12.3+\n",
    "print(torch.backends.mps.is_available())\n",
    "# This ensures that the current current PyTorch installation was built with MPS activated.\n",
    "print(torch.backends.mps.is_built())"
   ]
  },
  {
   "cell_type": "markdown",
   "id": "f594dd8c",
   "metadata": {},
   "source": [
    "We will train our models with the small Cu FCC cell containing two atoms. "
   ]
  },
  {
   "cell_type": "code",
   "execution_count": 7,
   "id": "8c0a33c9",
   "metadata": {},
   "outputs": [
    {
     "data": {
      "image/png": "[encoded data removed]",
      "text/plain": [
       "<Figure size 300x300 with 1 Axes>"
      ]
     },
     "metadata": {},
     "output_type": "display_data"
    }
   ],
   "source": [
    "# We will use ase's bulk function. Set up an orthorhombic cell. \n",
    "copper_ortho = bulk('Cu', 'fcc', a=3.6, orthorhombic=True)\n",
    "# view(copper_ortho, viewer='x3d') # uncomment this if you want to have an interactive view\n",
    "fig, ax = plt.subplots(figsize=(3,3))\n",
    "plot_atoms(copper_ortho, ax, radii=0.3, rotation=('45x,45y,0z'))\n",
    "plt.show()"
   ]
  },
  {
   "cell_type": "markdown",
   "id": "b232ddd7",
   "metadata": {},
   "source": [
    "Generating the SOAP function with DScribe. Our SOAP is coded to be periodic along all three dimensions."
   ]
  },
  {
   "cell_type": "code",
   "execution_count": 14,
   "id": "0cdd4b6e",
   "metadata": {},
   "outputs": [
    {
     "name": "stdout",
     "output_type": "stream",
     "text": [
      "Periodic =  [ True  True  True]\n"
     ]
    }
   ],
   "source": [
    "rcut = 2.54 # Local cut off\n",
    "nmax = 4 # max number of radial basis functions\n",
    "lmax = 4 # maximum degree of spherical harmonics\n",
    "\n",
    "copper_ortho = bulk('Cu', 'fcc', a=3.6, orthorhombic=True)\n",
    "print('Periodic = ',copper_ortho.get_pbc()) # checking for periodicity in ase\n",
    "\n",
    "copper_soap_W = SOAP( # W = with weighting\n",
    "    species=[29],\n",
    "    rcut=rcut,\n",
    "    nmax=nmax,\n",
    "    lmax=nmax,\n",
    "    sigma=1,\n",
    "    periodic=True,\n",
    "    sparse=False,\n",
    "    weighting={\"function\":\"poly\",\"r0\":2,\"c\":2,\"m\":2}\n",
    ")"
   ]
  },
  {
   "cell_type": "markdown",
   "id": "865eefbd",
   "metadata": {},
   "source": [
    "Loading data."
   ]
  },
  {
   "cell_type": "code",
   "execution_count": 15,
   "id": "64edc2eb",
   "metadata": {},
   "outputs": [
    {
     "name": "stdout",
     "output_type": "stream",
     "text": [
      "[145, 67, 450, 387, 220, 200, 82, 0, 300, 2, 130, 259]\n",
      "Read file: data/bulk-Cu/Cu-fcc-ELENTRON-DEN-ELECTRON_DENSITY-1_145.cube\n",
      "SOAP is of dimension: (5175, 50)\n",
      "Read file: data/bulk-Cu/Cu-fcc-ELENTRON-DEN-ELECTRON_DENSITY-1_450.cube\n",
      "Read file: data/bulk-Cu/Cu-fcc-ELENTRON-DEN-ELECTRON_DENSITY-1_67.cube\n",
      "Read file: data/bulk-Cu/Cu-fcc-ELENTRON-DEN-ELECTRON_DENSITY-1_259.cube\n",
      "Read file: data/bulk-Cu/Cu-fcc-ELENTRON-DEN-ELECTRON_DENSITY-1_300.cube\n",
      "Read file: data/bulk-Cu/Cu-fcc-ELENTRON-DEN-ELECTRON_DENSITY-1_0.cube\n",
      "Read file: data/bulk-Cu/Cu-fcc-ELENTRON-DEN-ELECTRON_DENSITY-1_387.cube\n",
      "Read file: data/bulk-Cu/Cu-fcc-ELENTRON-DEN-ELECTRON_DENSITY-1_82.cube\n",
      "Read file: data/bulk-Cu/Cu-fcc-ELENTRON-DEN-ELECTRON_DENSITY-1_200.cube\n",
      "Read file: data/bulk-Cu/Cu-fcc-ELENTRON-DEN-ELECTRON_DENSITY-1_130.cube\n"
     ]
    },
    {
     "data": {
      "text/plain": [
       "(array([[ 1.34399371e-02,  1.35174338e-01,  1.29379976e-01, ...,\n",
       "          3.94723809e-07, -6.27184719e-07,  9.96546605e-07],\n",
       "        [ 5.86109638e-03,  7.12803123e-02,  5.50400477e-02, ...,\n",
       "          5.80445299e-06, -9.15326416e-06,  1.44341327e-05],\n",
       "        [ 1.57242350e-03,  2.70995319e-02,  1.38010517e-02, ...,\n",
       "          2.99912050e-05, -4.68068658e-05,  7.30508391e-05],\n",
       "        ...,\n",
       "        [ 1.45332386e-02,  1.43751815e-01,  1.40162436e-01, ...,\n",
       "          2.55495278e-07, -4.05723968e-07,  6.44287192e-07],\n",
       "        [ 1.59175322e-02,  1.54448133e-01,  1.53829822e-01, ...,\n",
       "          1.35533545e-07, -2.15702671e-07,  3.43292448e-07],\n",
       "        [ 1.27908754e-02,  1.30028447e-01,  1.22983150e-01, ...,\n",
       "          5.09609013e-07, -8.09346707e-07,  1.28538169e-06]]),\n",
       " array([1.7777 , 0.5902 , 0.20032, ..., 2.5678 , 2.5368 , 1.5912 ]))"
      ]
     },
     "execution_count": 15,
     "metadata": {},
     "output_type": "execute_result"
    }
   ],
   "source": [
    "# Use the 6 DFT data points.\n",
    "subsample=10\n",
    "\n",
    "# Path of the file and filename prefix\n",
    "datapath = 'data/bulk-Cu/'\n",
    "datafilename = 'Cu-fcc-ELENTRON-DEN-ELECTRON_DENSITY-1_' \n",
    "all_files = os.listdir(f'{datapath}')\n",
    "data_files =[x for x in all_files \n",
    "               if x.split('.')[-1] == 'cube']\n",
    "idxList=[int(x.split('.cube')[0].split('_')[-1]) \n",
    "         for x in data_files if x.split('.')[-1] == 'cube']\n",
    "\n",
    "\n",
    "\n",
    "cubefile = lambda x:f'{datapath}{x}' # creating a lambda function\n",
    "print(idxList)\n",
    "# generating an object of type deepcdp (imported)\n",
    "CDP_W=deepcdp(copper_soap_W)\n",
    "\n",
    "# generates a box of points. Be mindful of the gamma value used.\n",
    "CDP_W.create_box(sample_cubeFile=datapath+data_files[0], gamma=90)\n",
    "\n",
    "totalfiles=int(os.popen(f'ls {datapath} | wc -l').read().split('\\n')[0])\n",
    "\n",
    "# useing ase's read_cube to read a sample cube file\n",
    "dicttest=read_cube(open(datapath+data_files[0]))\n",
    "sampleSubs=dicttest['atoms']\n",
    "sampleSubs.set_pbc((True, True, True))\n",
    "\n",
    "# randomly picking snapshots for training\n",
    "data_files_sub = random.sample(data_files, k=subsample)\n",
    "\n",
    "# generating final dataset\n",
    "CDP_W.generate_cube_data(data_files_sub,cubefile,sampleSubs)\n"
   ]
  },
  {
   "cell_type": "markdown",
   "id": "29b4a4b8",
   "metadata": {},
   "source": [
    "Storing the data as Variables for pyTorch."
   ]
  },
  {
   "cell_type": "code",
   "execution_count": 13,
   "id": "d1a2534f",
   "metadata": {},
   "outputs": [],
   "source": [
    "soaps=Variable(torch.Tensor(CDP_W.trainX))\n",
    "rhos=Variable(torch.Tensor(CDP_W.trainY))"
   ]
  },
  {
   "cell_type": "code",
   "execution_count": null,
   "id": "c4afde2c",
   "metadata": {},
   "outputs": [],
   "source": []
  }
 ],
 "metadata": {
  "kernelspec": {
   "display_name": "Python 3 (ipykernel)",
   "language": "python",
   "name": "python3"
  },
  "language_info": {
   "codemirror_mode": {
    "name": "ipython",
    "version": 3
   },
   "file_extension": ".py",
   "mimetype": "text/x-python",
   "name": "python",
   "nbconvert_exporter": "python",
   "pygments_lexer": "ipython3",
   "version": "3.8.16"
  }
 },
 "nbformat": 4,
 "nbformat_minor": 5
}

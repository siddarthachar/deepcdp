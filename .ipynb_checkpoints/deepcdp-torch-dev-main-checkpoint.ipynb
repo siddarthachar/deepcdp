{
 "cells": [
  {
   "cell_type": "code",
   "execution_count": null,
   "id": "245d1b30",
   "metadata": {},
   "outputs": [],
   "source": []
  },
  {
   "cell_type": "code",
   "execution_count": 2,
   "id": "45b366ff",
   "metadata": {},
   "outputs": [
    {
     "name": "stdout",
     "output_type": "stream",
     "text": [
      "Device:  mps\n",
      "True\n",
      "True\n"
     ]
    }
   ],
   "source": [
    "import torch\n",
    "import math\n",
    "import numpy as np\n",
    "import dscribe\n",
    "from ase.build import molecule\n",
    "from dscribe.descriptors import SOAP\n",
    "from ase.io import read, write\n",
    "from ase import Atom, Atoms\n",
    "import time\n",
    "import os\n",
    "import sys\n",
    "import pickle\n",
    "from ase.io.cube import read_cube, write_cube\n",
    "from sklearn.metrics import explained_variance_score, mean_squared_error\n",
    "import py3Dmol\n",
    "sys.path.append('deepcdp/')\n",
    "from deepcdp import deepcdp\n",
    "import torch.nn as nn\n",
    "import torch.nn.functional as F\n",
    "from torchsummaryX import summary\n",
    "from torch.utils.data import Dataset, DataLoader\n",
    "from torch.nn.utils.rnn import pad_sequence, pack_padded_sequence, pad_packed_sequence\n",
    "import pandas as pd\n",
    "from sklearn.metrics import accuracy_score\n",
    "import gc\n",
    "import zipfile\n",
    "import pandas as pd\n",
    "from tqdm import tqdm\n",
    "\n",
    "import datetime\n",
    "import matplotlib.pyplot as plt\n",
    "import random\n",
    "import torch.utils.data as utils_data\n",
    "from torch.autograd import Variable\n",
    "from torch.nn.modules.dropout import Dropout\n",
    "\n",
    "import warnings\n",
    "warnings.filterwarnings('ignore')\n",
    "\n",
    "device = 'mps' if torch.backends.mps.is_available() else 'cpu'\n",
    "print(\"Device: \", device)\n",
    "\n",
    "# This ensures that the current MacOS version is at least 12.3+\n",
    "print(torch.backends.mps.is_available())\n",
    "# This ensures that the current current PyTorch installation was built with MPS activated.\n",
    "print(torch.backends.mps.is_built())"
   ]
  },
  {
   "cell_type": "code",
   "execution_count": 3,
   "id": "1898c970",
   "metadata": {},
   "outputs": [],
   "source": [
    "species = [\"H\", \"O\"]   \n",
    "rcut = 2.0      # Cut off radius in Angs\n",
    "nmax = 4      # number of radial basis functions\n",
    "lmax = 4      # number of spherical harmonics\n",
    "\n",
    "# Setting up the SOAP descriptor\n",
    "soap_obj = SOAP(\n",
    "    species=species,\n",
    "    periodic=False,\n",
    "    rcut=rcut,\n",
    "    nmax=nmax,\n",
    "    lmax=lmax,\n",
    "    weighting={\"function\":\"poly\",\"r0\":1.5,\"c\":2,\"m\":2}\n",
    ")"
   ]
  },
  {
   "cell_type": "code",
   "execution_count": 5,
   "id": "a0863e14",
   "metadata": {},
   "outputs": [
    {
     "name": "stdout",
     "output_type": "stream",
     "text": [
      "Read file: ../../DeePCDP-dev/water-data/cube-h2o-2k/h2o-ELECTRON_DENSITY-1_909.cube\n",
      "SOAP is of dimension: (68921, 180)\n",
      "Read file: ../../DeePCDP-dev/water-data/cube-h2o-2k/h2o-ELECTRON_DENSITY-1_1111.cube\n",
      "Read file: ../../DeePCDP-dev/water-data/cube-h2o-2k/h2o-ELECTRON_DENSITY-1_101.cube\n",
      "Read file: ../../DeePCDP-dev/water-data/cube-h2o-2k/h2o-ELECTRON_DENSITY-1_404.cube\n",
      "Read file: ../../DeePCDP-dev/water-data/cube-h2o-2k/h2o-ELECTRON_DENSITY-1_1515.cube\n"
     ]
    },
    {
     "data": {
      "text/plain": [
       "(array([[0., 0., 0., ..., 0., 0., 0.],\n",
       "        [0., 0., 0., ..., 0., 0., 0.],\n",
       "        [0., 0., 0., ..., 0., 0., 0.],\n",
       "        ...,\n",
       "        [0., 0., 0., ..., 0., 0., 0.],\n",
       "        [0., 0., 0., ..., 0., 0., 0.],\n",
       "        [0., 0., 0., ..., 0., 0., 0.]]),\n",
       " array([ 1.5559e-18,  1.2019e-17, -4.1108e-17, ...,  3.5532e-16,\n",
       "         7.6125e-16,  8.9954e-16]))"
      ]
     },
     "execution_count": 5,
     "metadata": {},
     "output_type": "execute_result"
    }
   ],
   "source": [
    "subsample=5\n",
    "datapath = '../../DeePCDP-dev/water-data/cube-h2o-2k/'\n",
    "datafilename = 'h2o-ELECTRON_DENSITY-1_'\n",
    "data_files = os.listdir(f'{datapath}')\n",
    "idxList=[int(x.split('.cube')[0].split('_')[-1]) for x in data_files]\n",
    "cubefile = lambda x:f'{datapath}{x}'\n",
    "CDP=deepcdp(soap_obj)\n",
    "CDP.create_box(sample_cubeFile=datapath+data_files[0], gamma=90)\n",
    "totalfiles=int(os.popen(f'ls {datapath} | wc -l').read().split('\\n')[0])\n",
    "data_files = os.listdir(datapath)\n",
    "dicttest=read_cube(open(datapath+data_files[0]))\n",
    "sampleSubs=dicttest['atoms']\n",
    "data_files_sub = random.choices(data_files, k=subsample)\n",
    "CDP.generate_cube_data(data_files_sub,cubefile,sampleSubs)"
   ]
  },
  {
   "cell_type": "code",
   "execution_count": 6,
   "id": "1daedea8",
   "metadata": {},
   "outputs": [],
   "source": [
    "# Define the model class\n",
    "class Network(torch.nn.Module):        \n",
    "    def __init__(self, input_size, hidden_sizes, output_size):\n",
    "        super(Network, self).__init__()\n",
    "        hidden_1, hidden_2, hidden_3 = hidden_sizes\n",
    "        layers = [\n",
    "            nn.Linear(input_size, hidden_1),\n",
    "#             nn.BatchNorm1d(hidden_1),\n",
    "            nn.ReLU(),\n",
    "            nn.Linear(hidden_1, hidden_2),\n",
    "#             nn.BatchNorm1d(hidden_2),\n",
    "            nn.ReLU(),\n",
    "            nn.Linear(hidden_2, hidden_3),\n",
    "#             nn.BatchNorm1d(hidden_3),\n",
    "            nn.ReLU(),\n",
    "            nn.Linear(hidden_3, output_size)\n",
    "        ]\n",
    "        \n",
    "        self.layers = nn.Sequential(*layers)\n",
    "\n",
    "    def forward(self, A0):\n",
    "        x = self.layers(A0)\n",
    "        return x"
   ]
  },
  {
   "cell_type": "code",
   "execution_count": 10,
   "id": "5a228530",
   "metadata": {},
   "outputs": [
    {
     "data": {
      "text/plain": [
       "344500"
      ]
     },
     "execution_count": 10,
     "metadata": {},
     "output_type": "execute_result"
    }
   ],
   "source": [
    "batch_size=500\n",
    "data_batch = int(CDP.trainX.shape[0]/batch_size)\n",
    "data_batch*batch_size"
   ]
  },
  {
   "cell_type": "code",
   "execution_count": 7,
   "id": "5ee8c06d",
   "metadata": {},
   "outputs": [],
   "source": [
    "soaps=Variable(torch.Tensor(CDP.trainX))\n",
    "rhos=Variable(torch.Tensor(CDP.trainY))"
   ]
  },
  {
   "cell_type": "code",
   "execution_count": 8,
   "id": "6bf95d63",
   "metadata": {},
   "outputs": [],
   "source": [
    "batch_size=500\n",
    "# Define the hyperparameters\n",
    "num_epochs = 100\n",
    "learning_rate = 0.0005\n",
    "\n",
    "# Define the model and loss function\n",
    "\n",
    "model = Network(soaps.shape[1], [150,150,150], 1).to(device)\n",
    "\n",
    "\n",
    "criterion = nn.MSELoss() # TODO: Change the \n",
    "optimizer = torch.optim.Adam(model.parameters(), lr=learning_rate,weight_decay=1e-4)\n",
    "scheduler = torch.optim.lr_scheduler.ReduceLROnPlateau(optimizer, mode=\"min\", factor=0.5, patience=5, verbose=True, threshold=0.01)\n",
    "\n",
    "\n",
    "training_samples = utils_data.TensorDataset(soaps, rhos)\n",
    "data_loader_trn = utils_data.DataLoader(training_samples, batch_size=batch_size, drop_last=False, shuffle=True)"
   ]
  },
  {
   "cell_type": "code",
   "execution_count": 33,
   "id": "7fff9772",
   "metadata": {},
   "outputs": [],
   "source": [
    "# torch.save({\n",
    "#                 'model_state_dict': model.state_dict(),\n",
    "#                 'optimizer_state_dict': optimizer.state_dict(),\n",
    "#                 'scheduler_state_dict' : scheduler.state_dict(),\n",
    "#     }, f\"water_model_\"+str(epoch))"
   ]
  },
  {
   "cell_type": "code",
   "execution_count": 18,
   "id": "0ac2e6ee",
   "metadata": {},
   "outputs": [],
   "source": [
    "model_dict=torch.load('../../DeePCDP-dev/saved_models/water-bn/water_model_bn_59')\n",
    "model.load_state_dict(model_dict['model_state_dict'])\n",
    "optimizer.load_state_dict(model_dict['optimizer_state_dict'])\n",
    "scheduler.load_state_dict(model_dict['scheduler_state_dict'])"
   ]
  },
  {
   "cell_type": "code",
   "execution_count": 37,
   "id": "df131d26",
   "metadata": {
    "scrolled": false
   },
   "outputs": [
    {
     "name": "stderr",
     "output_type": "stream",
     "text": [
      "                                                                                         \r"
     ]
    },
    {
     "name": "stdout",
     "output_type": "stream",
     "text": [
      "Epoch 1/100: Train Loss 0.0272, Learning Rate 0.0005\n"
     ]
    },
    {
     "name": "stderr",
     "output_type": "stream",
     "text": [
      "                                                                                         \r"
     ]
    },
    {
     "name": "stdout",
     "output_type": "stream",
     "text": [
      "Epoch 2/100: Train Loss 0.0291, Learning Rate 0.0005\n"
     ]
    },
    {
     "name": "stderr",
     "output_type": "stream",
     "text": [
      "                                                                                         \r"
     ]
    },
    {
     "name": "stdout",
     "output_type": "stream",
     "text": [
      "Epoch 3/100: Train Loss 0.0295, Learning Rate 0.0005\n"
     ]
    },
    {
     "name": "stderr",
     "output_type": "stream",
     "text": [
      "                                                                                         \r"
     ]
    },
    {
     "name": "stdout",
     "output_type": "stream",
     "text": [
      "Epoch 4/100: Train Loss 0.0263, Learning Rate 0.0005\n"
     ]
    },
    {
     "name": "stderr",
     "output_type": "stream",
     "text": [
      "                                                                                         \r"
     ]
    },
    {
     "name": "stdout",
     "output_type": "stream",
     "text": [
      "Epoch 5/100: Train Loss 0.0250, Learning Rate 0.0005\n",
      "Saving model\n"
     ]
    },
    {
     "name": "stderr",
     "output_type": "stream",
     "text": [
      "                                                                                         \r"
     ]
    },
    {
     "name": "stdout",
     "output_type": "stream",
     "text": [
      "Epoch 6/100: Train Loss 0.0290, Learning Rate 0.0005\n"
     ]
    },
    {
     "name": "stderr",
     "output_type": "stream",
     "text": [
      "                                                                                         \r"
     ]
    },
    {
     "name": "stdout",
     "output_type": "stream",
     "text": [
      "Epoch 7/100: Train Loss 0.0250, Learning Rate 0.0005\n"
     ]
    },
    {
     "name": "stderr",
     "output_type": "stream",
     "text": [
      "                                                                                         \r"
     ]
    },
    {
     "name": "stdout",
     "output_type": "stream",
     "text": [
      "Epoch 8/100: Train Loss 0.0245, Learning Rate 0.0005\n"
     ]
    },
    {
     "name": "stderr",
     "output_type": "stream",
     "text": [
      "                                                                                         \r"
     ]
    },
    {
     "name": "stdout",
     "output_type": "stream",
     "text": [
      "Epoch 9/100: Train Loss 0.0296, Learning Rate 0.0005\n"
     ]
    },
    {
     "name": "stderr",
     "output_type": "stream",
     "text": [
      "                                                                                         \r"
     ]
    },
    {
     "name": "stdout",
     "output_type": "stream",
     "text": [
      "Epoch 10/100: Train Loss 0.0268, Learning Rate 0.0005\n",
      "Epoch [10/100], Loss: 0.0268\n"
     ]
    },
    {
     "data": {
      "image/png": "[encoded data removed]",
      "text/plain": [
       "<Figure size 640x480 with 1 Axes>"
      ]
     },
     "metadata": {},
     "output_type": "display_data"
    },
    {
     "name": "stdout",
     "output_type": "stream",
     "text": [
      "Saving model\n"
     ]
    },
    {
     "name": "stderr",
     "output_type": "stream",
     "text": [
      "                                                                                         \r"
     ]
    },
    {
     "name": "stdout",
     "output_type": "stream",
     "text": [
      "Epoch 11/100: Train Loss 0.0253, Learning Rate 0.0005\n"
     ]
    },
    {
     "name": "stderr",
     "output_type": "stream",
     "text": [
      "                                                                                         \r"
     ]
    },
    {
     "name": "stdout",
     "output_type": "stream",
     "text": [
      "Epoch 12/100: Train Loss 0.0250, Learning Rate 0.0005\n"
     ]
    },
    {
     "name": "stderr",
     "output_type": "stream",
     "text": [
      "                                                                                         \r"
     ]
    },
    {
     "name": "stdout",
     "output_type": "stream",
     "text": [
      "Epoch 13/100: Train Loss 0.0266, Learning Rate 0.0005\n"
     ]
    },
    {
     "name": "stderr",
     "output_type": "stream",
     "text": [
      "                                                                                         \r"
     ]
    },
    {
     "name": "stdout",
     "output_type": "stream",
     "text": [
      "Epoch 14/100: Train Loss 0.0262, Learning Rate 0.0005\n",
      "Epoch 00058: reducing learning rate of group 0 to 2.5000e-04.\n"
     ]
    },
    {
     "name": "stderr",
     "output_type": "stream",
     "text": [
      "                                                                                         \r"
     ]
    },
    {
     "name": "stdout",
     "output_type": "stream",
     "text": [
      "Epoch 15/100: Train Loss 0.0213, Learning Rate 0.0003\n",
      "Saving model\n"
     ]
    },
    {
     "name": "stderr",
     "output_type": "stream",
     "text": [
      "                                                                                         \r"
     ]
    },
    {
     "name": "stdout",
     "output_type": "stream",
     "text": [
      "Epoch 16/100: Train Loss 0.0206, Learning Rate 0.0003\n"
     ]
    },
    {
     "name": "stderr",
     "output_type": "stream",
     "text": [
      "                                                                                         \r"
     ]
    },
    {
     "name": "stdout",
     "output_type": "stream",
     "text": [
      "Epoch 17/100: Train Loss 0.0218, Learning Rate 0.0003\n"
     ]
    },
    {
     "name": "stderr",
     "output_type": "stream",
     "text": [
      "                                                                                         \r"
     ]
    },
    {
     "name": "stdout",
     "output_type": "stream",
     "text": [
      "Epoch 18/100: Train Loss 0.0204, Learning Rate 0.0003\n"
     ]
    },
    {
     "name": "stderr",
     "output_type": "stream",
     "text": [
      "                                                                                         \r"
     ]
    },
    {
     "name": "stdout",
     "output_type": "stream",
     "text": [
      "Epoch 19/100: Train Loss 0.0193, Learning Rate 0.0003\n"
     ]
    },
    {
     "name": "stderr",
     "output_type": "stream",
     "text": [
      "                                                                                         \r"
     ]
    },
    {
     "name": "stdout",
     "output_type": "stream",
     "text": [
      "Epoch 20/100: Train Loss 0.0200, Learning Rate 0.0003\n",
      "Epoch [20/100], Loss: 0.0200\n"
     ]
    },
    {
     "data": {
      "image/png": "[encoded data removed]",
      "text/plain": [
       "<Figure size 640x480 with 1 Axes>"
      ]
     },
     "metadata": {},
     "output_type": "display_data"
    },
    {
     "name": "stdout",
     "output_type": "stream",
     "text": [
      "Saving model\n"
     ]
    },
    {
     "name": "stderr",
     "output_type": "stream",
     "text": [
      "                                                                                         \r"
     ]
    },
    {
     "name": "stdout",
     "output_type": "stream",
     "text": [
      "Epoch 21/100: Train Loss 0.0206, Learning Rate 0.0003\n"
     ]
    },
    {
     "name": "stderr",
     "output_type": "stream",
     "text": [
      "                                                                                         \r"
     ]
    },
    {
     "name": "stdout",
     "output_type": "stream",
     "text": [
      "Epoch 22/100: Train Loss 0.0191, Learning Rate 0.0003\n"
     ]
    },
    {
     "name": "stderr",
     "output_type": "stream",
     "text": [
      "                                                                                         \r"
     ]
    },
    {
     "name": "stdout",
     "output_type": "stream",
     "text": [
      "Epoch 23/100: Train Loss 0.0201, Learning Rate 0.0003\n"
     ]
    },
    {
     "name": "stderr",
     "output_type": "stream",
     "text": [
      "                                                                                         \r"
     ]
    },
    {
     "name": "stdout",
     "output_type": "stream",
     "text": [
      "Epoch 24/100: Train Loss 0.0202, Learning Rate 0.0003\n"
     ]
    },
    {
     "name": "stderr",
     "output_type": "stream",
     "text": [
      "                                                                                         \r"
     ]
    },
    {
     "name": "stdout",
     "output_type": "stream",
     "text": [
      "Epoch 25/100: Train Loss 0.0208, Learning Rate 0.0003\n",
      "Saving model\n"
     ]
    },
    {
     "name": "stderr",
     "output_type": "stream",
     "text": [
      "                                                                                         \r"
     ]
    },
    {
     "name": "stdout",
     "output_type": "stream",
     "text": [
      "Epoch 26/100: Train Loss 0.0186, Learning Rate 0.0003\n"
     ]
    },
    {
     "name": "stderr",
     "output_type": "stream",
     "text": [
      "                                                                                         \r"
     ]
    },
    {
     "name": "stdout",
     "output_type": "stream",
     "text": [
      "Epoch 27/100: Train Loss 0.0223, Learning Rate 0.0003\n"
     ]
    },
    {
     "name": "stderr",
     "output_type": "stream",
     "text": [
      "                                                                                         \r"
     ]
    },
    {
     "name": "stdout",
     "output_type": "stream",
     "text": [
      "Epoch 28/100: Train Loss 0.0183, Learning Rate 0.0003\n"
     ]
    },
    {
     "name": "stderr",
     "output_type": "stream",
     "text": [
      "                                                                                         \r"
     ]
    },
    {
     "name": "stdout",
     "output_type": "stream",
     "text": [
      "Epoch 29/100: Train Loss 0.0205, Learning Rate 0.0003\n"
     ]
    },
    {
     "name": "stderr",
     "output_type": "stream",
     "text": [
      "                                                                                         \r"
     ]
    },
    {
     "name": "stdout",
     "output_type": "stream",
     "text": [
      "Epoch 30/100: Train Loss 0.0224, Learning Rate 0.0003\n",
      "Epoch [30/100], Loss: 0.0224\n"
     ]
    },
    {
     "data": {
      "image/png": "[encoded data removed]",
      "text/plain": [
       "<Figure size 640x480 with 1 Axes>"
      ]
     },
     "metadata": {},
     "output_type": "display_data"
    },
    {
     "name": "stdout",
     "output_type": "stream",
     "text": [
      "Saving model\n"
     ]
    },
    {
     "name": "stderr",
     "output_type": "stream",
     "text": [
      "                                                                                         \r"
     ]
    },
    {
     "name": "stdout",
     "output_type": "stream",
     "text": [
      "Epoch 31/100: Train Loss 0.0195, Learning Rate 0.0003\n"
     ]
    },
    {
     "name": "stderr",
     "output_type": "stream",
     "text": [
      "                                                                                         \r"
     ]
    },
    {
     "name": "stdout",
     "output_type": "stream",
     "text": [
      "Epoch 32/100: Train Loss 0.0186, Learning Rate 0.0003\n"
     ]
    },
    {
     "name": "stderr",
     "output_type": "stream",
     "text": [
      "                                                                                         \r"
     ]
    },
    {
     "name": "stdout",
     "output_type": "stream",
     "text": [
      "Epoch 33/100: Train Loss 0.0198, Learning Rate 0.0003\n"
     ]
    },
    {
     "name": "stderr",
     "output_type": "stream",
     "text": [
      "                                                                                         \r"
     ]
    },
    {
     "name": "stdout",
     "output_type": "stream",
     "text": [
      "Epoch 34/100: Train Loss 0.0199, Learning Rate 0.0003\n",
      "Epoch 00078: reducing learning rate of group 0 to 1.2500e-04.\n"
     ]
    },
    {
     "name": "stderr",
     "output_type": "stream",
     "text": [
      "                                                                                         \r"
     ]
    },
    {
     "name": "stdout",
     "output_type": "stream",
     "text": [
      "Epoch 35/100: Train Loss 0.0182, Learning Rate 0.0001\n",
      "Saving model\n"
     ]
    },
    {
     "name": "stderr",
     "output_type": "stream",
     "text": [
      "                                                                                         \r"
     ]
    },
    {
     "name": "stdout",
     "output_type": "stream",
     "text": [
      "Epoch 36/100: Train Loss 0.0165, Learning Rate 0.0001\n"
     ]
    },
    {
     "name": "stderr",
     "output_type": "stream",
     "text": [
      "                                                                                         \r"
     ]
    },
    {
     "name": "stdout",
     "output_type": "stream",
     "text": [
      "Epoch 37/100: Train Loss 0.0177, Learning Rate 0.0001\n"
     ]
    },
    {
     "name": "stderr",
     "output_type": "stream",
     "text": [
      "                                                                                         \r"
     ]
    },
    {
     "name": "stdout",
     "output_type": "stream",
     "text": [
      "Epoch 38/100: Train Loss 0.0160, Learning Rate 0.0001\n"
     ]
    },
    {
     "name": "stderr",
     "output_type": "stream",
     "text": [
      "                                                                                         \r"
     ]
    },
    {
     "name": "stdout",
     "output_type": "stream",
     "text": [
      "Epoch 39/100: Train Loss 0.0179, Learning Rate 0.0001\n"
     ]
    },
    {
     "name": "stderr",
     "output_type": "stream",
     "text": [
      "                                                                                         \r"
     ]
    },
    {
     "name": "stdout",
     "output_type": "stream",
     "text": [
      "Epoch 40/100: Train Loss 0.0168, Learning Rate 0.0001\n",
      "Epoch [40/100], Loss: 0.0168\n"
     ]
    },
    {
     "data": {
      "image/png": "[encoded data removed]",
      "text/plain": [
       "<Figure size 640x480 with 1 Axes>"
      ]
     },
     "metadata": {},
     "output_type": "display_data"
    },
    {
     "name": "stdout",
     "output_type": "stream",
     "text": [
      "Saving model\n"
     ]
    },
    {
     "name": "stderr",
     "output_type": "stream",
     "text": [
      "                                                                                         \r"
     ]
    },
    {
     "name": "stdout",
     "output_type": "stream",
     "text": [
      "Epoch 41/100: Train Loss 0.0154, Learning Rate 0.0001\n"
     ]
    },
    {
     "name": "stderr",
     "output_type": "stream",
     "text": [
      "                                                                                         \r"
     ]
    },
    {
     "name": "stdout",
     "output_type": "stream",
     "text": [
      "Epoch 42/100: Train Loss 0.0159, Learning Rate 0.0001\n"
     ]
    },
    {
     "name": "stderr",
     "output_type": "stream",
     "text": [
      "                                                                                         \r"
     ]
    },
    {
     "name": "stdout",
     "output_type": "stream",
     "text": [
      "Epoch 43/100: Train Loss 0.0136, Learning Rate 0.0001\n"
     ]
    },
    {
     "name": "stderr",
     "output_type": "stream",
     "text": [
      "                                                                                         \r"
     ]
    },
    {
     "name": "stdout",
     "output_type": "stream",
     "text": [
      "Epoch 44/100: Train Loss 0.0170, Learning Rate 0.0001\n"
     ]
    },
    {
     "name": "stderr",
     "output_type": "stream",
     "text": [
      "                                                                                         \r"
     ]
    },
    {
     "name": "stdout",
     "output_type": "stream",
     "text": [
      "Epoch 45/100: Train Loss 0.0194, Learning Rate 0.0001\n",
      "Saving model\n"
     ]
    },
    {
     "name": "stderr",
     "output_type": "stream",
     "text": [
      "                                                                                         \r"
     ]
    },
    {
     "name": "stdout",
     "output_type": "stream",
     "text": [
      "Epoch 46/100: Train Loss 0.0154, Learning Rate 0.0001\n"
     ]
    },
    {
     "name": "stderr",
     "output_type": "stream",
     "text": [
      "                                                                                         \r"
     ]
    },
    {
     "name": "stdout",
     "output_type": "stream",
     "text": [
      "Epoch 47/100: Train Loss 0.0176, Learning Rate 0.0001\n"
     ]
    },
    {
     "name": "stderr",
     "output_type": "stream",
     "text": [
      "                                                                                         \r"
     ]
    },
    {
     "name": "stdout",
     "output_type": "stream",
     "text": [
      "Epoch 48/100: Train Loss 0.0173, Learning Rate 0.0001\n"
     ]
    },
    {
     "name": "stderr",
     "output_type": "stream",
     "text": [
      "                                                                                         \r"
     ]
    },
    {
     "name": "stdout",
     "output_type": "stream",
     "text": [
      "Epoch 49/100: Train Loss 0.0154, Learning Rate 0.0001\n",
      "Epoch 00093: reducing learning rate of group 0 to 6.2500e-05.\n"
     ]
    },
    {
     "name": "stderr",
     "output_type": "stream",
     "text": [
      "                                                                                         \r"
     ]
    },
    {
     "name": "stdout",
     "output_type": "stream",
     "text": [
      "Epoch 50/100: Train Loss 0.0153, Learning Rate 0.0001\n",
      "Epoch [50/100], Loss: 0.0153\n"
     ]
    },
    {
     "data": {
      "image/png": "[encoded data removed]",
      "text/plain": [
       "<Figure size 640x480 with 1 Axes>"
      ]
     },
     "metadata": {},
     "output_type": "display_data"
    },
    {
     "name": "stdout",
     "output_type": "stream",
     "text": [
      "Saving model\n"
     ]
    },
    {
     "name": "stderr",
     "output_type": "stream",
     "text": [
      "                                                                                         \r"
     ]
    },
    {
     "name": "stdout",
     "output_type": "stream",
     "text": [
      "Epoch 51/100: Train Loss 0.0152, Learning Rate 0.0001\n"
     ]
    },
    {
     "name": "stderr",
     "output_type": "stream",
     "text": [
      "                                                                                         \r"
     ]
    },
    {
     "name": "stdout",
     "output_type": "stream",
     "text": [
      "Epoch 52/100: Train Loss 0.0134, Learning Rate 0.0001\n"
     ]
    },
    {
     "name": "stderr",
     "output_type": "stream",
     "text": [
      "                                                                                         \r"
     ]
    },
    {
     "name": "stdout",
     "output_type": "stream",
     "text": [
      "Epoch 53/100: Train Loss 0.0134, Learning Rate 0.0001\n"
     ]
    },
    {
     "name": "stderr",
     "output_type": "stream",
     "text": [
      "                                                                                         \r"
     ]
    },
    {
     "name": "stdout",
     "output_type": "stream",
     "text": [
      "Epoch 54/100: Train Loss 0.0148, Learning Rate 0.0001\n"
     ]
    },
    {
     "name": "stderr",
     "output_type": "stream",
     "text": [
      "                                                                                         \r"
     ]
    },
    {
     "name": "stdout",
     "output_type": "stream",
     "text": [
      "Epoch 55/100: Train Loss 0.0154, Learning Rate 0.0001\n",
      "Saving model\n"
     ]
    },
    {
     "name": "stderr",
     "output_type": "stream",
     "text": [
      "                                                                                         \r"
     ]
    },
    {
     "name": "stdout",
     "output_type": "stream",
     "text": [
      "Epoch 56/100: Train Loss 0.0145, Learning Rate 0.0001\n"
     ]
    },
    {
     "name": "stderr",
     "output_type": "stream",
     "text": [
      "                                                                                         \r"
     ]
    },
    {
     "name": "stdout",
     "output_type": "stream",
     "text": [
      "Epoch 57/100: Train Loss 0.0142, Learning Rate 0.0001\n"
     ]
    },
    {
     "name": "stderr",
     "output_type": "stream",
     "text": [
      "                                                                                         \r"
     ]
    },
    {
     "name": "stdout",
     "output_type": "stream",
     "text": [
      "Epoch 58/100: Train Loss 0.0145, Learning Rate 0.0001\n",
      "Epoch 00102: reducing learning rate of group 0 to 3.1250e-05.\n"
     ]
    },
    {
     "name": "stderr",
     "output_type": "stream",
     "text": [
      "                                                                                         \r"
     ]
    },
    {
     "name": "stdout",
     "output_type": "stream",
     "text": [
      "Epoch 59/100: Train Loss 0.0143, Learning Rate 0.0000\n"
     ]
    },
    {
     "name": "stderr",
     "output_type": "stream",
     "text": [
      "                                                                                         \r"
     ]
    },
    {
     "name": "stdout",
     "output_type": "stream",
     "text": [
      "Epoch 60/100: Train Loss 0.0132, Learning Rate 0.0000\n",
      "Epoch [60/100], Loss: 0.0132\n"
     ]
    },
    {
     "data": {
      "image/png": "[encoded data removed]",
      "text/plain": [
       "<Figure size 640x480 with 1 Axes>"
      ]
     },
     "metadata": {},
     "output_type": "display_data"
    },
    {
     "name": "stdout",
     "output_type": "stream",
     "text": [
      "Saving model\n"
     ]
    },
    {
     "name": "stderr",
     "output_type": "stream",
     "text": [
      "Train:  26%|████▉              | 179/690 [00:05<00:18, 27.54it/s, loss=0.0029, lr=0.0000]\n",
      "KeyboardInterrupt\n",
      "\n"
     ]
    }
   ],
   "source": [
    "# Train the model\n",
    "cum_loss_epoch=[]\n",
    "for epoch in range(num_epochs):\n",
    "    batch_bar = tqdm(total=len(data_loader_trn), dynamic_ncols=True, leave=False, position=0, desc='Train') \n",
    "    model.train()\n",
    "    cum_loss = 0\n",
    "    # Convert inputs and labels to tensors\n",
    "    \n",
    "    for batch_idx, (data, target) in enumerate(data_loader_trn):\n",
    "        inputs = (data.float()).to(device)\n",
    "        labels = (target.float()).reshape(-1,1).to(device)\n",
    "        \n",
    "        # Forward pass\n",
    "        outputs = model(inputs)\n",
    "        loss = criterion(outputs, labels)\n",
    "        # Backward and optimize\n",
    "        optimizer.zero_grad()\n",
    "        loss.backward()\n",
    "        optimizer.step()\n",
    "        cum_loss+=loss.item()\n",
    "        batch_bar.set_postfix(\n",
    "            loss=\"{:.04f}\".format(cum_loss),\n",
    "            lr=\"{:.04f}\".format(float(optimizer.param_groups[0]['lr'])))\n",
    "        batch_bar.update()\n",
    "    batch_bar.close()\n",
    "    print(\"Epoch {}/{}: Train Loss {:.04f}, Learning Rate {:.04f}\".format(\n",
    "        epoch + 1,\n",
    "        num_epochs,\n",
    "        float(cum_loss), \n",
    "        float(float(optimizer.param_groups[0]['lr']))\n",
    "        ))\n",
    "\n",
    "    scheduler.step(cum_loss)\n",
    "    cum_loss_epoch +=[cum_loss]\n",
    "    np.savetxt('cum_loss_water.dat',cum_loss_epoch)\n",
    "\n",
    "    if (epoch+1) % 10 == 0:\n",
    "        print(f'Epoch [{epoch+1}/{num_epochs}], Loss: {cum_loss:.4f}')\n",
    "        plt.plot(model(soaps.to(device)).cpu().detach().numpy())\n",
    "        plt.plot(rhos, alpha=0.5)\n",
    "        plt.show()\n",
    "#     print()\n",
    "        \n",
    "    if (epoch+1) % 5 == 0:\n",
    "        \n",
    "        print('Saving model')\n",
    "        torch.save({\n",
    "                'model_state_dict': model.state_dict(),\n",
    "                'optimizer_state_dict': optimizer.state_dict(),\n",
    "                'scheduler_state_dict' : scheduler.state_dict(),\n",
    "    }, f\"../../DeePCDP-dev/saved_models/water-bn/water_model_bn_\"+str(epoch))\n",
    "#     print()"
   ]
  },
  {
   "cell_type": "code",
   "execution_count": 24,
   "id": "1f859bea",
   "metadata": {},
   "outputs": [
    {
     "data": {
      "text/plain": [
       "[<matplotlib.lines.Line2D at 0x7fb68490bf70>]"
      ]
     },
     "execution_count": 24,
     "metadata": {},
     "output_type": "execute_result"
    },
    {
     "data": {
      "image/png": "[encoded data removed]",
      "text/plain": [
       "<Figure size 640x480 with 1 Axes>"
      ]
     },
     "metadata": {},
     "output_type": "display_data"
    }
   ],
   "source": [
    "model.eval()\n",
    "plt.plot(model(soaps.to(device)).cpu().detach().numpy())\n",
    "plt.plot(rhos, alpha=0.5)"
   ]
  },
  {
   "cell_type": "code",
   "execution_count": 128,
   "id": "47c7adce",
   "metadata": {},
   "outputs": [],
   "source": [
    "model.eval()\n",
    "pred=model(inputs).to('cpu').detach().numpy()\n",
    "lab=labels.detach().to('cpu').numpy()"
   ]
  },
  {
   "cell_type": "code",
   "execution_count": 91,
   "id": "3d433b0f",
   "metadata": {},
   "outputs": [
    {
     "data": {
      "text/plain": [
       "[<matplotlib.lines.Line2D at 0x7fddfe068670>]"
      ]
     },
     "execution_count": 91,
     "metadata": {},
     "output_type": "execute_result"
    },
    {
     "data": {
      "image/png": "[encoded data removed]",
      "text/plain": [
       "<Figure size 640x480 with 1 Axes>"
      ]
     },
     "metadata": {},
     "output_type": "display_data"
    }
   ],
   "source": [
    "plt.plot(pred)\n",
    "# plt.plot(pred)"
   ]
  },
  {
   "cell_type": "code",
   "execution_count": 92,
   "id": "b69d442f",
   "metadata": {},
   "outputs": [
    {
     "data": {
      "text/plain": [
       "(torch.Size([2618, 1]), torch.Size([2618, 1]))"
      ]
     },
     "execution_count": 92,
     "metadata": {},
     "output_type": "execute_result"
    }
   ],
   "source": [
    "model(inputs).shape, labels.shape"
   ]
  },
  {
   "cell_type": "code",
   "execution_count": 75,
   "id": "22b71525",
   "metadata": {},
   "outputs": [
    {
     "data": {
      "text/plain": [
       "(2618, 180)"
      ]
     },
     "execution_count": 75,
     "metadata": {},
     "output_type": "execute_result"
    }
   ],
   "source": [
    "train_batch_X[0].T.shape"
   ]
  },
  {
   "cell_type": "code",
   "execution_count": 40,
   "id": "48681e20",
   "metadata": {},
   "outputs": [
    {
     "ename": "NameError",
     "evalue": "name 'test' is not defined",
     "output_type": "error",
     "traceback": [
      "\u001b[0;31m---------------------------------------------------------------------------\u001b[0m",
      "\u001b[0;31mNameError\u001b[0m                                 Traceback (most recent call last)",
      "Cell \u001b[0;32mIn[40], line 1\u001b[0m\n\u001b[0;32m----> 1\u001b[0m \u001b[38;5;28mprint\u001b[39m(\u001b[43mtest\u001b[49m)\n",
      "\u001b[0;31mNameError\u001b[0m: name 'test' is not defined"
     ]
    }
   ],
   "source": [
    "print(test)"
   ]
  },
  {
   "cell_type": "code",
   "execution_count": 14,
   "id": "e1a6b06a",
   "metadata": {
    "scrolled": false
   },
   "outputs": [],
   "source": [
    "model.eval()\n",
    "for batch_idx, (data, target) in enumerate(zip(train_batch_X, train_batch_Y)):\n",
    "    inputs = (torch.from_numpy(data).float().T).to(device)\n",
    "    pred=model(inputs).to('cpu').detach().numpy()\n",
    "    lab=target.T\n",
    "    plt.plot(pred)\n",
    "    plt.plot(lab)\n",
    "    plt.show()"
   ]
  },
  {
   "cell_type": "code",
   "execution_count": 99,
   "id": "ea7acc42",
   "metadata": {},
   "outputs": [],
   "source": [
    "from sklearn.neural_network import MLPRegressor"
   ]
  },
  {
   "cell_type": "code",
   "execution_count": 101,
   "id": "143de336",
   "metadata": {},
   "outputs": [
    {
     "name": "stdout",
     "output_type": "stream",
     "text": [
      "Training:  132.74965596199036  seconds.\n"
     ]
    }
   ],
   "source": [
    "start = time.time()\n",
    "model_water_2 = MLPRegressor(hidden_layer_sizes=(100,100,100),\n",
    "                           random_state=1,\n",
    "                           max_iter=300, \n",
    "                           shuffle=True,\n",
    "                           batch_size=500).fit(CDP.trainX, CDP.trainY) ## Building NN\n",
    "end = time.time()\n",
    "print(\"Training: \", (end - start), \" seconds.\")\n",
    "\n",
    "file_name = 'model_2.sav'\n",
    "pickle.dump(model_water_2, open(file_name,'wb'))"
   ]
  },
  {
   "cell_type": "code",
   "execution_count": null,
   "id": "466d7edb",
   "metadata": {},
   "outputs": [],
   "source": []
  }
 ],
 "metadata": {
  "kernelspec": {
   "display_name": "Python 3 (ipykernel)",
   "language": "python",
   "name": "python3"
  },
  "language_info": {
   "codemirror_mode": {
    "name": "ipython",
    "version": 3
   },
   "file_extension": ".py",
   "mimetype": "text/x-python",
   "name": "python",
   "nbconvert_exporter": "python",
   "pygments_lexer": "ipython3",
   "version": "3.8.16"
  }
 },
 "nbformat": 4,
 "nbformat_minor": 5
}

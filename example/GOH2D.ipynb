{
 "cells": [
  {
   "cell_type": "markdown",
   "id": "3a076f5f",
   "metadata": {},
   "source": [
    "# 2D structures: Graphanol "
   ]
  },
  {
   "cell_type": "code",
   "execution_count": 1,
   "id": "020d1385",
   "metadata": {},
   "outputs": [],
   "source": [
    "# Load all packages, some may not be needed.\n",
    "\n",
    "import matplotlib.pyplot as plt\n",
    "import numpy as np\n",
    "from mpl_toolkits.mplot3d import Axes3D\n",
    "import os\n",
    "import dscribe\n",
    "from ase.build import molecule\n",
    "from dscribe.descriptors import SOAP\n",
    "from ase.build import bulk\n",
    "from ase.visualize import view\n",
    "from sklearn.neural_network import MLPRegressor\n",
    "from sklearn.linear_model import Ridge\n",
    "from ase.io import read, write\n",
    "from ase import Atom, Atoms\n",
    "import time\n",
    "import pickle\n",
    "import torch\n",
    "import torch.nn as nn\n",
    "import torch.nn.functional as F\n",
    "import torch.utils.data as utils_data\n",
    "from torch.autograd import Variable\n",
    "from ase.io.cube import read_cube, write_cube\n",
    "from ase.visualize.plot import plot_atoms\n",
    "from sklearn.decomposition import TruncatedSVD\n",
    "from sklearn.metrics import explained_variance_score, mean_squared_error\n",
    "import os\n",
    "import py3Dmol\n",
    "import rdkit\n",
    "from rdkit import Chem\n",
    "from rdkit.Chem import AllChem\n",
    "from rdkit.Chem import Draw\n",
    "from rdkit.Chem.Draw import IPythonConsole\n",
    "from sklearn.metrics import explained_variance_score, mean_squared_error, r2_score"
   ]
  },
  {
   "cell_type": "code",
   "execution_count": null,
   "id": "7596e7ec",
   "metadata": {},
   "outputs": [],
   "source": []
  }
 ],
 "metadata": {
  "kernelspec": {
   "display_name": "Python 3 (ipykernel)",
   "language": "python",
   "name": "python3"
  },
  "language_info": {
   "codemirror_mode": {
    "name": "ipython",
    "version": 3
   },
   "file_extension": ".py",
   "mimetype": "text/x-python",
   "name": "python",
   "nbconvert_exporter": "python",
   "pygments_lexer": "ipython3",
   "version": "3.7.11"
  }
 },
 "nbformat": 4,
 "nbformat_minor": 5
}

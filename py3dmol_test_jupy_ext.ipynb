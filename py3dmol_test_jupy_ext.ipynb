{
 "cells": [
  {
   "cell_type": "code",
   "execution_count": 1,
   "id": "93823444",
   "metadata": {},
   "outputs": [],
   "source": [
    "# Load all packages, some may not be needed.\n",
    "\n",
    "import matplotlib.pyplot as plt\n",
    "import numpy as np\n",
    "from mpl_toolkits.mplot3d import Axes3D\n",
    "import os\n",
    "import dscribe\n",
    "from ase.build import molecule\n",
    "from dscribe.descriptors import SOAP\n",
    "from ase.build import bulk\n",
    "from ase.visualize import view\n",
    "from sklearn.neural_network import MLPRegressor\n",
    "from sklearn.linear_model import Ridge\n",
    "from ase.io import read, write\n",
    "from ase import Atom, Atoms\n",
    "import time\n",
    "import pickle\n",
    "import torch\n",
    "import torch.nn as nn\n",
    "import torch.nn.functional as F\n",
    "import torch.utils.data as utils_data\n",
    "from torch.autograd import Variable\n",
    "from ase.io.cube import read_cube, write_cube\n",
    "from ase.visualize.plot import plot_atoms\n",
    "from sklearn.decomposition import TruncatedSVD\n",
    "from sklearn.metrics import explained_variance_score, mean_squared_error\n",
    "import os\n",
    "import py3Dmol\n",
    "import rdkit\n",
    "from rdkit import Chem\n",
    "from rdkit.Chem import AllChem\n",
    "from rdkit.Chem import Draw\n",
    "from rdkit.Chem.Draw import IPythonConsole\n",
    "from sklearn.metrics import explained_variance_score, mean_squared_error, r2_score"
   ]
  },
  {
   "cell_type": "code",
   "execution_count": 2,
   "id": "2afdaf23",
   "metadata": {},
   "outputs": [
    {
     "data": {
      "application/3dmoljs_load.v0": "<div id=\"3dmolviewer_16412011082972512\"  style=\"position: relative; width: 400px; height: 400px\">\n        <p id=\"3dmolwarning_16412011082972512\" style=\"background-color:#ffcccc;color:black\">You appear to be running in JupyterLab (or JavaScript failed to load for some other reason).  You need to install the 3dmol extension: <br>\n        <tt>jupyter labextension install jupyterlab_3dmol</tt></p>\n        </div>\n<script>\n\nvar loadScriptAsync = function(uri){\n  return new Promise((resolve, reject) => {\n    var tag = document.createElement('script');\n    tag.src = uri;\n    tag.async = true;\n    tag.onload = () => {\n      resolve();\n    };\n  var firstScriptTag = document.getElementsByTagName('script')[0];\n  firstScriptTag.parentNode.insertBefore(tag, firstScriptTag);\n});\n};\n\nif(typeof $3Dmolpromise === 'undefined') {\n$3Dmolpromise = null;\n  $3Dmolpromise = loadScriptAsync('https://3dmol.org/build/3Dmol.js');\n}\n\nvar viewer_16412011082972512 = null;\nvar warn = document.getElementById(\"3dmolwarning_16412011082972512\");\nif(warn) {\n    warn.parentNode.removeChild(warn);\n}\n$3Dmolpromise.then(function() {\nviewer_16412011082972512 = $3Dmol.createViewer($(\"#3dmolviewer_16412011082972512\"),{backgroundColor:\"white\"});\nviewer_16412011082972512.zoomTo();\n\tviewer_16412011082972512.addModel(\"9\\n\\nO          4.41111        3.70146        3.33749\\nH          4.06915        3.20867        2.58746\\nH          5.29014        3.31684        3.39015\\nH          3.69454        4.90667        5.28572\\nO          3.01280        5.09620        4.63556\\nH          2.38625        4.40357        4.85918\\nH          5.02779        4.42172        5.45008\\nH          6.43133        4.84177        5.43294\\nO          5.77383        4.45841        4.84643\\n\",\"xyz\");\n\tviewer_16412011082972512.setStyle({\"stick\": {}});\n\tviewer_16412011082972512.zoomTo();\nviewer_16412011082972512.render();\n});\n</script>",
      "text/html": [
       "<div id=\"3dmolviewer_16412011082972512\"  style=\"position: relative; width: 400px; height: 400px\">\n",
       "        <p id=\"3dmolwarning_16412011082972512\" style=\"background-color:#ffcccc;color:black\">You appear to be running in JupyterLab (or JavaScript failed to load for some other reason).  You need to install the 3dmol extension: <br>\n",
       "        <tt>jupyter labextension install jupyterlab_3dmol</tt></p>\n",
       "        </div>\n",
       "<script>\n",
       "\n",
       "var loadScriptAsync = function(uri){\n",
       "  return new Promise((resolve, reject) => {\n",
       "    var tag = document.createElement('script');\n",
       "    tag.src = uri;\n",
       "    tag.async = true;\n",
       "    tag.onload = () => {\n",
       "      resolve();\n",
       "    };\n",
       "  var firstScriptTag = document.getElementsByTagName('script')[0];\n",
       "  firstScriptTag.parentNode.insertBefore(tag, firstScriptTag);\n",
       "});\n",
       "};\n",
       "\n",
       "if(typeof $3Dmolpromise === 'undefined') {\n",
       "$3Dmolpromise = null;\n",
       "  $3Dmolpromise = loadScriptAsync('https://3dmol.org/build/3Dmol.js');\n",
       "}\n",
       "\n",
       "var viewer_16412011082972512 = null;\n",
       "var warn = document.getElementById(\"3dmolwarning_16412011082972512\");\n",
       "if(warn) {\n",
       "    warn.parentNode.removeChild(warn);\n",
       "}\n",
       "$3Dmolpromise.then(function() {\n",
       "viewer_16412011082972512 = $3Dmol.createViewer($(\"#3dmolviewer_16412011082972512\"),{backgroundColor:\"white\"});\n",
       "viewer_16412011082972512.zoomTo();\n",
       "\tviewer_16412011082972512.addModel(\"9\\n\\nO          4.41111        3.70146        3.33749\\nH          4.06915        3.20867        2.58746\\nH          5.29014        3.31684        3.39015\\nH          3.69454        4.90667        5.28572\\nO          3.01280        5.09620        4.63556\\nH          2.38625        4.40357        4.85918\\nH          5.02779        4.42172        5.45008\\nH          6.43133        4.84177        5.43294\\nO          5.77383        4.45841        4.84643\\n\",\"xyz\");\n",
       "\tviewer_16412011082972512.setStyle({\"stick\": {}});\n",
       "\tviewer_16412011082972512.zoomTo();\n",
       "viewer_16412011082972512.render();\n",
       "});\n",
       "</script>"
      ]
     },
     "metadata": {},
     "output_type": "display_data"
    }
   ],
   "source": [
    "water_xyz=open('electron_den_data/water/water_large.xyz').read()\n",
    "# print(water_xyz)\n",
    "xyzview = py3Dmol.view(width=400,height=400)\n",
    "xyzview.addModel(water_xyz,'xyz')\n",
    "xyzview.setStyle({'stick':{}})\n",
    "xyzview.zoomTo()\n",
    "xyzview.show()"
   ]
  }
 ],
 "metadata": {
  "kernelspec": {
   "display_name": "Python 3 (ipykernel)",
   "language": "python",
   "name": "python3"
  },
  "language_info": {
   "codemirror_mode": {
    "name": "ipython",
    "version": 3
   },
   "file_extension": ".py",
   "mimetype": "text/x-python",
   "name": "python",
   "nbconvert_exporter": "python",
   "pygments_lexer": "ipython3",
   "version": "3.7.11"
  }
 },
 "nbformat": 4,
 "nbformat_minor": 5
}
